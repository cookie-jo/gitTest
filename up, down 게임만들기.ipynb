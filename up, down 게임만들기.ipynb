{
 "cells": [
  {
   "cell_type": "code",
   "execution_count": 2,
   "metadata": {},
   "outputs": [],
   "source": [
    "import random\n",
    "rd = random.randint(1, 50)"
   ]
  },
  {
   "cell_type": "code",
   "execution_count": 4,
   "metadata": {},
   "outputs": [
    {
     "name": "stdout",
     "output_type": "stream",
     "text": [
      "숫자를 입력하세요6\n",
      "6보다 큰 수 입니다.\n",
      "숫자를 입력하세요30\n",
      "30보다 작은 수 입니다.\n",
      "숫자를 입력하세요15\n",
      "15보다 큰 수 입니다.\n",
      "숫자를 입력하세요24\n",
      "24보다 큰 수 입니다.\n",
      "숫자를 입력하세요27\n",
      "27보다 큰 수 입니다.\n",
      "숫자를 입력하세요29\n",
      "29보다 작은 수 입니다.\n",
      "숫자를 입력하세요28\n",
      "정답을 맞추셨습니다.\n"
     ]
    }
   ],
   "source": [
    "while True:\n",
    "    num = int(input('숫자를 입력하세요'))\n",
    "\n",
    "    if num > rd :\n",
    "        print('{}보다 작은 수 입니다.'.format(num))\n",
    "    elif num < rd :\n",
    "        print('{}보다 큰 수 입니다.'.format(num))\n",
    "    else:\n",
    "        print('정답을 맞추셨습니다.')\n",
    "        break\n"
   ]
  },
  {
   "cell_type": "code",
   "execution_count": 10,
   "metadata": {},
   "outputs": [
    {
     "name": "stdout",
     "output_type": "stream",
     "text": [
      "숫자 입력 : 1\n",
      "누적결과 : 1\n",
      "숫자 입력 : 2\n",
      "누적결과 : 3\n",
      "숫자 입력 : 4\n",
      "누적결과 : 7\n",
      "숫자 입력 : -1\n",
      "종료되었습니다\n"
     ]
    }
   ],
   "source": [
    "#숫자 입력받아 누적하는 프로그램만들기\n",
    "sum = 0\n",
    "while True:\n",
    "    num = int(input(\"숫자 입력 : \"))\n",
    "    if num <= -1:\n",
    "        print(\"종료되었습니다\")\n",
    "        break    \n",
    "    sum += num\n",
    "    print(\"누적결과 : {}\".format(sum))"
   ]
  },
  {
   "cell_type": "code",
   "execution_count": 11,
   "metadata": {},
   "outputs": [
    {
     "name": "stdout",
     "output_type": "stream",
     "text": [
      "숫자 입력 : -1\n",
      "종료되었습니다\n"
     ]
    }
   ],
   "source": [
    "#숫자 입력받아 누적하는 프로그램만들기\n",
    "sum = 0\n",
    "while True:\n",
    "    num = int(input(\"숫자 입력 : \"))\n",
    "    if num == -1:\n",
    "        print(\"종료되었습니다\")\n",
    "        break\n",
    "    else:\n",
    "        sum += num\n",
    "        print(\"누적결과 : {}\".format(sum))"
   ]
  },
  {
   "cell_type": "code",
   "execution_count": 14,
   "metadata": {},
   "outputs": [
    {
     "name": "stdout",
     "output_type": "stream",
     "text": [
      "숫자 입력 >> 3\n",
      "짝수개수 : 0\n",
      "홀수개수 : 1\n",
      "숫자 입력 >> 3\n",
      "짝수개수 : 0\n",
      "홀수개수 : 2\n",
      "숫자 입력 >> 6\n",
      "짝수개수 : 1\n",
      "홀수개수 : 2\n",
      "숫자 입력 >> 4\n",
      "짝수개수 : 2\n",
      "홀수개수 : 2\n",
      "숫자 입력 >> 7\n",
      "짝수개수 : 2\n",
      "홀수개수 : 3\n",
      "숫자 입력 >> 6\n",
      "짝수개수 : 3\n",
      "홀수개수 : 3\n",
      "숫자 입력 >> 5\n",
      "짝수개수 : 3\n",
      "홀수개수 : 4\n",
      "숫자 입력 >> 8\n",
      "짝수개수 : 4\n",
      "홀수개수 : 4\n",
      "숫자 입력 >> 10\n",
      "짝수개수 : 5\n",
      "홀수개수 : 4\n",
      "숫자 입력 >> 0\n",
      "종료되었습니다.\n"
     ]
    }
   ],
   "source": [
    "#숫자를 입력받아 홀수와 짝수가 몇개 입력되었는지 누적하여 출력\n",
    "even_num = 0\n",
    "odd_num = 0\n",
    "\n",
    "while True:\n",
    "    num = int(input(\"숫자 입력 >> \"))\n",
    "    if num == 0:\n",
    "        print(\"종료되었습니다.\")\n",
    "        break\n",
    "    elif num % 2 == 0:\n",
    "        odd_num += 1\n",
    "    else:\n",
    "        even_num += 1\n",
    "    print(\"짝수개수 : {}\".format(odd_num))\n",
    "    print(\"홀수개수 : {}\".format(even_num))"
   ]
  },
  {
   "cell_type": "code",
   "execution_count": 16,
   "metadata": {},
   "outputs": [
    {
     "name": "stdout",
     "output_type": "stream",
     "text": [
      "숫자 입력 >> 2\n",
      "짝수개수 : 1\n",
      "홀수개수 : 0\n",
      "숫자 입력 >> 3\n",
      "짝수개수 : 1\n",
      "홀수개수 : 1\n",
      "숫자 입력 >> 0\n",
      "종료되었습니다.\n"
     ]
    }
   ],
   "source": [
    "even_num = 0\n",
    "odd_num = 0\n",
    "\n",
    "while True:\n",
    "    num = int(input(\"숫자 입력 >> \"))\n",
    "    \n",
    "    # 1. 입력된 num 이 0 인지 아닌지 판별\n",
    "    \n",
    "    if num == 0: \n",
    "        print(\"종료되었습니다.\")\n",
    "        break\n",
    "        \n",
    "    # 2. 0이 아닐경우 홀수 짝수 판별하기\n",
    "    \n",
    "    else: \n",
    "        #짝수인지\n",
    "        if num % 2 == 0: \n",
    "            odd_num += 1\n",
    "            \n",
    "         #홀수인지   \n",
    "        else:\n",
    "            even_num += 1\n",
    "    print(\"짝수개수 : {}\".format(odd_num))\n",
    "    print(\"홀수개수 : {}\".format(even_num))"
   ]
  },
  {
   "cell_type": "code",
   "execution_count": null,
   "metadata": {},
   "outputs": [],
   "source": []
  }
 ],
 "metadata": {
  "kernelspec": {
   "display_name": "Python 3",
   "language": "python",
   "name": "python3"
  },
  "language_info": {
   "codemirror_mode": {
    "name": "ipython",
    "version": 3
   },
   "file_extension": ".py",
   "mimetype": "text/x-python",
   "name": "python",
   "nbconvert_exporter": "python",
   "pygments_lexer": "ipython3",
   "version": "3.7.6"
  }
 },
 "nbformat": 4,
 "nbformat_minor": 4
}
