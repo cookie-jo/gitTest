{
 "cells": [
  {
   "cell_type": "code",
   "execution_count": 2,
   "metadata": {},
   "outputs": [
    {
     "name": "stdout",
     "output_type": "stream",
     "text": [
      "햄버거\n",
      "치킨\n",
      "피자\n"
     ]
    }
   ],
   "source": [
    "list_food = [\"햄버거\", \"치킨\", \"피자\"]\n",
    "for food in list_food:\n",
    "    print(food)"
   ]
  },
  {
   "cell_type": "code",
   "execution_count": 3,
   "metadata": {},
   "outputs": [
    {
     "name": "stdout",
     "output_type": "stream",
     "text": [
      "안\n",
      "녕\n",
      "하\n",
      "세\n",
      "요\n"
     ]
    }
   ],
   "source": [
    "hi = \"안녕하세요\"\n",
    "for s in hi:\n",
    "    print(s)"
   ]
  },
  {
   "cell_type": "code",
   "execution_count": 23,
   "metadata": {},
   "outputs": [
    {
     "name": "stdout",
     "output_type": "stream",
     "text": [
      "1번 학생은 합격입니다\n",
      "2번 학생은 불합격입니다\n",
      "3번 학생은 합격입니다\n",
      "4번 학생은 합격입니다\n",
      "5번 학생은 불합격입니다\n"
     ]
    }
   ],
   "source": [
    "# 시험점수 합격 불합격 판별하기 for문\n",
    "score_list = [90, 45, 70, 60, 55]\n",
    "\n",
    "i=1\n",
    "for score in score_list:\n",
    "    if score >= 60:\n",
    "        result = '합격'\n",
    "    else:\n",
    "        result ='불합격'\n",
    "    print(\"{}번 학생은 {}입니다\".format(i, result))\n",
    "    i+=1"
   ]
  },
  {
   "cell_type": "code",
   "execution_count": 31,
   "metadata": {},
   "outputs": [
    {
     "name": "stdout",
     "output_type": "stream",
     "text": [
      "1번 학생은 불합격자입니다\n",
      "2번 학생은 불합격자입니다\n",
      "3번 학생은 합격자입니다\n",
      "4번 학생은 불합격자입니다\n",
      "5번 학생은 합격자입니다\n"
     ]
    }
   ],
   "source": [
    "# 시험점수 합격 불합격 판별하기 while문, pop 사용\n",
    "score_list = [90, 45, 70, 60, 55]\n",
    "\n",
    "i=1\n",
    "while score_list:\n",
    "    score = score_list.pop()\n",
    "    if score > 60:\n",
    "        print(\"{}번 학생은 합격자입니다\".format(i))\n",
    "    else:\n",
    "        print(\"{}번 학생은 불합격자입니다\".format(i))\n",
    "    i+=1"
   ]
  },
  {
   "cell_type": "code",
   "execution_count": 35,
   "metadata": {},
   "outputs": [
    {
     "name": "stdout",
     "output_type": "stream",
     "text": [
      "1 2 3 4 5 6 7 8 9 "
     ]
    }
   ],
   "source": [
    "#1부터 9까지 1씩 증가하는 수\n",
    "for i in range(1, 10, 1):\n",
    "    print(i, end = \" \")"
   ]
  },
  {
   "cell_type": "code",
   "execution_count": 36,
   "metadata": {},
   "outputs": [
    {
     "name": "stdout",
     "output_type": "stream",
     "text": [
      "1 4 7 10 13 16 19 22 25 28 31 34 37 40 43 46 49 52 55 58 61 64 67 70 73 76 79 82 85 88 91 94 97 "
     ]
    }
   ],
   "source": [
    "for i in range(1, 100, 3):\n",
    "    print(i, end = \" \")"
   ]
  },
  {
   "cell_type": "code",
   "execution_count": 38,
   "metadata": {},
   "outputs": [
    {
     "name": "stdout",
     "output_type": "stream",
     "text": [
      "10 8 6 4 2 "
     ]
    }
   ],
   "source": [
    "for i in range(10, 1, -2):\n",
    "    print(i, end = \" \")"
   ]
  },
  {
   "cell_type": "code",
   "execution_count": 40,
   "metadata": {},
   "outputs": [
    {
     "name": "stdout",
     "output_type": "stream",
     "text": [
      "1 2 3 4 5 6 7 8 9 10 "
     ]
    }
   ],
   "source": [
    "for i in range(1,11):\n",
    "    print(i, end = \" \")"
   ]
  },
  {
   "cell_type": "code",
   "execution_count": 41,
   "metadata": {},
   "outputs": [
    {
     "name": "stdout",
     "output_type": "stream",
     "text": [
      "0 1 2 3 4 5 6 7 8 9 10 "
     ]
    }
   ],
   "source": [
    "for i in range(11):\n",
    "    print(i, end = \" \")"
   ]
  },
  {
   "cell_type": "raw",
   "metadata": {},
   "source": [
    "range()사용방법\n",
    "    1. range(시작수, 종료수, 증가수)\n",
    "    2. range(시작수, 종료수) -> 증가하는 수는 1씩 자동증가\n",
    "    3. range(끝나는 수) -> 0부터 끝나는 수까지 자동증가"
   ]
  },
  {
   "cell_type": "code",
   "execution_count": 43,
   "metadata": {},
   "outputs": [
    {
     "name": "stdout",
     "output_type": "stream",
     "text": [
      "97 96 95 94 93 92 91 90 89 88 87 86 85 84 83 82 81 80 79 78 77 "
     ]
    }
   ],
   "source": [
    "for i in range(97, 76, -1):\n",
    "        print(i, end = \" \")"
   ]
  },
  {
   "cell_type": "code",
   "execution_count": 44,
   "metadata": {},
   "outputs": [
    {
     "name": "stdout",
     "output_type": "stream",
     "text": [
      "23 24 25 26 27 28 29 30 31 32 33 34 35 36 37 38 39 "
     ]
    }
   ],
   "source": [
    "for i in range(23, 40, 1):\n",
    "        print(i, end = \" \")"
   ]
  },
  {
   "cell_type": "code",
   "execution_count": 45,
   "metadata": {},
   "outputs": [
    {
     "name": "stdout",
     "output_type": "stream",
     "text": [
      "11 13 15 17 19 21 23 25 27 29 31 33 35 37 39 41 43 45 47 49 51 53 55 "
     ]
    }
   ],
   "source": [
    "for i in range(11, 56, 2):\n",
    "        print(i, end = \" \")"
   ]
  },
  {
   "cell_type": "code",
   "execution_count": 1,
   "metadata": {},
   "outputs": [
    {
     "name": "stdout",
     "output_type": "stream",
     "text": [
      "첫 번째 정수 입력 >> 10\n",
      "두 번째 정수 입력 >> 30\n",
      "1 2 3 4 5 6 7 8 9 10 11 12 13 14 15 16 17 18 19 20 21 22 23 24 25 26 27 28 29 30 "
     ]
    }
   ],
   "source": [
    "start = int(input(\"첫 번째 정수 입력 >> \"))\n",
    "end = int(input(\"두 번째 정수 입력 >> \"))\n",
    "for start in range(end):\n",
    "    print(start+1, end = \" \")"
   ]
  },
  {
   "cell_type": "code",
   "execution_count": 3,
   "metadata": {},
   "outputs": [
    {
     "name": "stdout",
     "output_type": "stream",
     "text": [
      "1683\n"
     ]
    }
   ],
   "source": [
    "total = 0\n",
    "for i in range(1, 100+1):\n",
    "    if i%3==0:\n",
    "        total += i\n",
    "        i+=1\n",
    "        \n",
    "print(total)"
   ]
  },
  {
   "cell_type": "code",
   "execution_count": 10,
   "metadata": {},
   "outputs": [
    {
     "name": "stdout",
     "output_type": "stream",
     "text": [
      "2 * 1 = 2\n",
      "2 * 2 = 4\n",
      "2 * 3 = 6\n",
      "2 * 4 = 8\n",
      "2 * 5 = 10\n",
      "2 * 6 = 12\n",
      "2 * 7 = 14\n",
      "2 * 8 = 16\n",
      "2 * 9 = 18\n"
     ]
    }
   ],
   "source": [
    "for i in range(1, 10):\n",
    "    print(\"2 * {} = {}\".format(i, (i*2)))"
   ]
  },
  {
   "cell_type": "code",
   "execution_count": 12,
   "metadata": {},
   "outputs": [
    {
     "name": "stdout",
     "output_type": "stream",
     "text": [
      "숫자를 입력하세요 >> 9\n",
      "9 * 1 = 9\n",
      "9 * 2 = 18\n",
      "9 * 3 = 27\n",
      "9 * 4 = 36\n",
      "9 * 5 = 45\n",
      "9 * 6 = 54\n",
      "9 * 7 = 63\n",
      "9 * 8 = 72\n",
      "9 * 9 = 81\n"
     ]
    }
   ],
   "source": [
    "#단을 입력받아 구구단 출력하기\n",
    "num = int(input(\"숫자를 입력하세요 >> \"))\n",
    "\n",
    "for i in range(1, 10):\n",
    "    print(\"{} * {} = {}\".format(num, i, (num*i)))"
   ]
  },
  {
   "cell_type": "code",
   "execution_count": null,
   "metadata": {},
   "outputs": [],
   "source": []
  }
 ],
 "metadata": {
  "kernelspec": {
   "display_name": "Python 3",
   "language": "python",
   "name": "python3"
  },
  "language_info": {
   "codemirror_mode": {
    "name": "ipython",
    "version": 3
   },
   "file_extension": ".py",
   "mimetype": "text/x-python",
   "name": "python",
   "nbconvert_exporter": "python",
   "pygments_lexer": "ipython3",
   "version": "3.7.6"
  }
 },
 "nbformat": 4,
 "nbformat_minor": 4
}
